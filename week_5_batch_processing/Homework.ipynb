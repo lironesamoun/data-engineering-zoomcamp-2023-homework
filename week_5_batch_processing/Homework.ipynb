{
 "cells": [
  {
   "cell_type": "code",
   "execution_count": null,
   "id": "868e2150",
   "metadata": {},
   "outputs": [],
   "source": [
    "import pyspark\n",
    "from pyspark.sql import types\n",
    "from pyspark.sql import SparkSession\n",
    "from pyspark.sql import functions as F\n",
    "from pyspark.sql.functions import col"
   ]
  },
  {
   "cell_type": "code",
   "execution_count": 4,
   "id": "2611bda3",
   "metadata": {},
   "outputs": [],
   "source": [
    "spark = SparkSession.builder \\\n",
    "    .master(\"local[*]\") \\\n",
    "    .appName('test') \\\n",
    "    .getOrCreate()"
   ]
  },
  {
   "cell_type": "code",
   "execution_count": 5,
   "id": "2a2687d1",
   "metadata": {},
   "outputs": [
    {
     "data": {
      "text/plain": [
       "'3.3.2'"
      ]
     },
     "execution_count": 5,
     "metadata": {},
     "output_type": "execute_result"
    }
   ],
   "source": [
    "spark.version"
   ]
  },
  {
   "cell_type": "code",
   "execution_count": 6,
   "id": "24260212",
   "metadata": {},
   "outputs": [],
   "source": [
    "schema = types.StructType([\n",
    "    types.StructField('hvfhs_license_num', types.StringType(), True),\n",
    "    types.StructField('dispatching_base_num', types.StringType(), True),\n",
    "    types.StructField('pickup_datetime', types.TimestampType(), True),\n",
    "    types.StructField('dropoff_datetime', types.TimestampType(), True),\n",
    "    types.StructField('PULocationID', types.IntegerType(), True),\n",
    "    types.StructField('DOLocationID', types.IntegerType(), True),\n",
    "    types.StructField('SR_Flag', types.StringType(), True)\n",
    "])"
   ]
  },
  {
   "cell_type": "code",
   "execution_count": 7,
   "id": "d8bb0da0",
   "metadata": {},
   "outputs": [
    {
     "name": "stderr",
     "output_type": "stream",
     "text": [
      "                                                                                \r"
     ]
    }
   ],
   "source": [
    "df_trip_data = spark.read \\\n",
    "      .option(\"header\", \"true\")\\\n",
    "      .option(\"inferSchema\", \"true\")\\\n",
    "      .csv('data/fhvhv_tripdata_2021-06.csv')"
   ]
  },
  {
   "cell_type": "code",
   "execution_count": 6,
   "id": "f77a53e1",
   "metadata": {},
   "outputs": [
    {
     "data": {
      "text/plain": [
       "StructType([StructField('dispatching_base_num', StringType(), True), StructField('pickup_datetime', TimestampType(), True), StructField('dropoff_datetime', TimestampType(), True), StructField('PULocationID', IntegerType(), True), StructField('DOLocationID', IntegerType(), True), StructField('SR_Flag', StringType(), True), StructField('Affiliated_base_number', StringType(), True)])"
      ]
     },
     "execution_count": 6,
     "metadata": {},
     "output_type": "execute_result"
    }
   ],
   "source": [
    "df_trip_data.schema"
   ]
  },
  {
   "cell_type": "code",
   "execution_count": 8,
   "id": "15901854",
   "metadata": {},
   "outputs": [
    {
     "data": {
      "text/plain": [
       "[Row(dispatching_base_num='B02764', pickup_datetime=datetime.datetime(2021, 6, 1, 0, 2, 41), dropoff_datetime=datetime.datetime(2021, 6, 1, 0, 7, 46), PULocationID=174, DOLocationID=18, SR_Flag='N', Affiliated_base_number='B02764'),\n",
       " Row(dispatching_base_num='B02764', pickup_datetime=datetime.datetime(2021, 6, 1, 0, 16, 16), dropoff_datetime=datetime.datetime(2021, 6, 1, 0, 21, 14), PULocationID=32, DOLocationID=254, SR_Flag='N', Affiliated_base_number='B02764'),\n",
       " Row(dispatching_base_num='B02764', pickup_datetime=datetime.datetime(2021, 6, 1, 0, 27, 1), dropoff_datetime=datetime.datetime(2021, 6, 1, 0, 42, 11), PULocationID=240, DOLocationID=127, SR_Flag='N', Affiliated_base_number='B02764'),\n",
       " Row(dispatching_base_num='B02764', pickup_datetime=datetime.datetime(2021, 6, 1, 0, 46, 8), dropoff_datetime=datetime.datetime(2021, 6, 1, 0, 53, 45), PULocationID=127, DOLocationID=235, SR_Flag='N', Affiliated_base_number='B02764'),\n",
       " Row(dispatching_base_num='B02510', pickup_datetime=datetime.datetime(2021, 6, 1, 0, 45, 42), dropoff_datetime=datetime.datetime(2021, 6, 1, 1, 3, 33), PULocationID=144, DOLocationID=146, SR_Flag='N', Affiliated_base_number=None)]"
      ]
     },
     "execution_count": 8,
     "metadata": {},
     "output_type": "execute_result"
    }
   ],
   "source": [
    "df_trip_data.head(5)"
   ]
  },
  {
   "cell_type": "code",
   "execution_count": null,
   "id": "1c11d988",
   "metadata": {},
   "outputs": [],
   "source": [
    "df_trip_data = df_trip_data.repartition(12)\n",
    "df_trip_data.write.parquet('data/2021/06/')"
   ]
  },
  {
   "cell_type": "code",
   "execution_count": null,
   "id": "fd4ba122",
   "metadata": {},
   "outputs": [],
   "source": [
    "# How many taxi trips were there on June 15?"
   ]
  },
  {
   "cell_type": "code",
   "execution_count": 9,
   "id": "121a3857",
   "metadata": {},
   "outputs": [],
   "source": [
    "df_trip_data.createOrReplaceTempView('trips_data')"
   ]
  },
  {
   "cell_type": "code",
   "execution_count": 10,
   "id": "f728939e",
   "metadata": {},
   "outputs": [
    {
     "name": "stderr",
     "output_type": "stream",
     "text": [
      "\r",
      "[Stage 3:>                                                          (0 + 8) / 8]\r"
     ]
    },
    {
     "name": "stdout",
     "output_type": "stream",
     "text": [
      "+--------+\n",
      "|count(1)|\n",
      "+--------+\n",
      "|  452470|\n",
      "+--------+\n",
      "\n"
     ]
    },
    {
     "name": "stderr",
     "output_type": "stream",
     "text": [
      "\r",
      "[Stage 3:============================================>              (6 + 2) / 8]\r",
      "\r",
      "                                                                                \r"
     ]
    }
   ],
   "source": [
    "df_result = spark.sql(\"\"\"\n",
    "SELECT \n",
    "   count(*)\n",
    "FROM\n",
    "    trips_data\n",
    "WHERE date(pickup_datetime) = \"2021-06-15\"\n",
    "\"\"\")\n",
    "df_result.show()"
   ]
  },
  {
   "cell_type": "code",
   "execution_count": 11,
   "id": "4eed2a2d",
   "metadata": {},
   "outputs": [],
   "source": [
    "# Now calculate the duration for each trip.How long was the longest trip in Hours?"
   ]
  },
  {
   "cell_type": "code",
   "execution_count": 12,
   "id": "6353f717",
   "metadata": {},
   "outputs": [],
   "source": [
    "from datetime import datetime\n",
    "def compute_duration(pickup_datetime, dropoff_datetime):\n",
    "    duration = abs(dropoff_datetime - pickup_datetime)\n",
    "    duration_in_s = duration.total_seconds()\n",
    "    hours = divmod(duration_in_s, 3600)[0]\n",
    "    minutes = divmod(duration_in_s, 60)[0]        # Seconds in a minute = 60\n",
    "    return hours\n",
    "    "
   ]
  },
  {
   "cell_type": "code",
   "execution_count": 13,
   "id": "7f0bb2c1",
   "metadata": {},
   "outputs": [
    {
     "data": {
      "text/plain": [
       "0.0"
      ]
     },
     "execution_count": 13,
     "metadata": {},
     "output_type": "execute_result"
    }
   ],
   "source": [
    "compute_duration(datetime(2021, 6, 1, 0, 7, 46), datetime(2021, 6, 1, 0, 2, 41))"
   ]
  },
  {
   "cell_type": "code",
   "execution_count": 14,
   "id": "299018a4",
   "metadata": {},
   "outputs": [],
   "source": [
    "compute_duration_udf = F.udf(compute_duration)"
   ]
  },
  {
   "cell_type": "code",
   "execution_count": 15,
   "id": "fff72e74",
   "metadata": {},
   "outputs": [
    {
     "name": "stderr",
     "output_type": "stream",
     "text": [
      "                                                                                \r"
     ]
    },
    {
     "data": {
      "text/plain": [
       "Row(max(duration)=66.8788888888889)"
      ]
     },
     "execution_count": 15,
     "metadata": {},
     "output_type": "execute_result"
    }
   ],
   "source": [
    "df_trip_data \\\n",
    "    .withColumn(\"duration\", (F.col(\"dropoff_datetime\").cast(\"long\") - F.col(\"pickup_datetime\").cast(\"long\"))/3600)\\\n",
    "    .select('duration')\\\n",
    "\t.agg({\"duration\": \"max\"})\\\n",
    "    .collect()[0]"
   ]
  },
  {
   "cell_type": "code",
   "execution_count": null,
   "id": "66c964f4",
   "metadata": {},
   "outputs": [],
   "source": [
    "df_trip_data \\\n",
    "    .withColumn('duration', compute_duration_udf(df_trip_data.dropoff_datetime,  df_trip_data.pickup_datetime)) \\\n",
    "    .select('pickup_datetime', 'dropoff_datetime', 'duration', 'PULocationID', 'DOLocationID') \\\n",
    "    .orderBy(col(\"duration\"))\\\n",
    "    .show()"
   ]
  },
  {
   "cell_type": "code",
   "execution_count": null,
   "id": "90d4a5b1",
   "metadata": {},
   "outputs": [],
   "source": [
    "# Using the zone lookup data and the fhvhv June 2021 data, what is the name of the most frequent pickup location zone?"
   ]
  },
  {
   "cell_type": "code",
   "execution_count": 16,
   "id": "4fd0d9f8",
   "metadata": {},
   "outputs": [],
   "source": [
    "df_zone_lookup = spark.read \\\n",
    "      .option(\"header\", \"true\")\\\n",
    "      .option(\"inferSchema\", \"true\")\\\n",
    "      .csv('data/taxi_zone_lookup.csv')"
   ]
  },
  {
   "cell_type": "code",
   "execution_count": 17,
   "id": "bab36479",
   "metadata": {},
   "outputs": [],
   "source": [
    "df_zone_lookup.createOrReplaceTempView('zone_lookup')"
   ]
  },
  {
   "cell_type": "code",
   "execution_count": 18,
   "id": "12b1f337",
   "metadata": {},
   "outputs": [
    {
     "data": {
      "text/plain": [
       "[Row(LocationID=1, Borough='EWR', Zone='Newark Airport', service_zone='EWR'),\n",
       " Row(LocationID=2, Borough='Queens', Zone='Jamaica Bay', service_zone='Boro Zone'),\n",
       " Row(LocationID=3, Borough='Bronx', Zone='Allerton/Pelham Gardens', service_zone='Boro Zone'),\n",
       " Row(LocationID=4, Borough='Manhattan', Zone='Alphabet City', service_zone='Yellow Zone'),\n",
       " Row(LocationID=5, Borough='Staten Island', Zone='Arden Heights', service_zone='Boro Zone')]"
      ]
     },
     "execution_count": 18,
     "metadata": {},
     "output_type": "execute_result"
    }
   ],
   "source": [
    "df_zone_lookup.head(5)"
   ]
  },
  {
   "cell_type": "code",
   "execution_count": 19,
   "id": "13001bfc",
   "metadata": {},
   "outputs": [
    {
     "data": {
      "text/plain": [
       "[Row(dispatching_base_num='B02764', pickup_datetime=datetime.datetime(2021, 6, 1, 0, 2, 41), dropoff_datetime=datetime.datetime(2021, 6, 1, 0, 7, 46), PULocationID=174, DOLocationID=18, SR_Flag='N', Affiliated_base_number='B02764'),\n",
       " Row(dispatching_base_num='B02764', pickup_datetime=datetime.datetime(2021, 6, 1, 0, 16, 16), dropoff_datetime=datetime.datetime(2021, 6, 1, 0, 21, 14), PULocationID=32, DOLocationID=254, SR_Flag='N', Affiliated_base_number='B02764'),\n",
       " Row(dispatching_base_num='B02764', pickup_datetime=datetime.datetime(2021, 6, 1, 0, 27, 1), dropoff_datetime=datetime.datetime(2021, 6, 1, 0, 42, 11), PULocationID=240, DOLocationID=127, SR_Flag='N', Affiliated_base_number='B02764'),\n",
       " Row(dispatching_base_num='B02764', pickup_datetime=datetime.datetime(2021, 6, 1, 0, 46, 8), dropoff_datetime=datetime.datetime(2021, 6, 1, 0, 53, 45), PULocationID=127, DOLocationID=235, SR_Flag='N', Affiliated_base_number='B02764'),\n",
       " Row(dispatching_base_num='B02510', pickup_datetime=datetime.datetime(2021, 6, 1, 0, 45, 42), dropoff_datetime=datetime.datetime(2021, 6, 1, 1, 3, 33), PULocationID=144, DOLocationID=146, SR_Flag='N', Affiliated_base_number=None)]"
      ]
     },
     "execution_count": 19,
     "metadata": {},
     "output_type": "execute_result"
    }
   ],
   "source": [
    "df_trip_data.head(5)"
   ]
  },
  {
   "cell_type": "code",
   "execution_count": 26,
   "id": "bf6c7f9c",
   "metadata": {},
   "outputs": [],
   "source": [
    "df_join = df_trip_data.join(df_zone_lookup, df_trip_data.PULocationID == df_zone_lookup.LocationID)"
   ]
  },
  {
   "cell_type": "code",
   "execution_count": 29,
   "id": "35343daf",
   "metadata": {},
   "outputs": [
    {
     "data": {
      "text/plain": [
       "[Row(dispatching_base_num='B02764', pickup_datetime=datetime.datetime(2021, 6, 1, 0, 2, 41), dropoff_datetime=datetime.datetime(2021, 6, 1, 0, 7, 46), PULocationID=174, DOLocationID=18, SR_Flag='N', Affiliated_base_number='B02764', LocationID=174, Borough='Bronx', Zone='Norwood', service_zone='Boro Zone'),\n",
       " Row(dispatching_base_num='B02764', pickup_datetime=datetime.datetime(2021, 6, 1, 0, 16, 16), dropoff_datetime=datetime.datetime(2021, 6, 1, 0, 21, 14), PULocationID=32, DOLocationID=254, SR_Flag='N', Affiliated_base_number='B02764', LocationID=32, Borough='Bronx', Zone='Bronxdale', service_zone='Boro Zone'),\n",
       " Row(dispatching_base_num='B02764', pickup_datetime=datetime.datetime(2021, 6, 1, 0, 27, 1), dropoff_datetime=datetime.datetime(2021, 6, 1, 0, 42, 11), PULocationID=240, DOLocationID=127, SR_Flag='N', Affiliated_base_number='B02764', LocationID=240, Borough='Bronx', Zone='Van Cortlandt Park', service_zone='Boro Zone')]"
      ]
     },
     "execution_count": 29,
     "metadata": {},
     "output_type": "execute_result"
    }
   ],
   "source": [
    "df_join.head(3)"
   ]
  },
  {
   "cell_type": "code",
   "execution_count": 37,
   "id": "982453cc",
   "metadata": {},
   "outputs": [
    {
     "name": "stderr",
     "output_type": "stream",
     "text": [
      "\r",
      "[Stage 42:>                                                         (0 + 8) / 8]\r"
     ]
    },
    {
     "name": "stdout",
     "output_type": "stream",
     "text": [
      "+--------------------+---------+\n",
      "|                Zone|nb_pickup|\n",
      "+--------------------+---------+\n",
      "| Crown Heights North|   231279|\n",
      "|        East Village|   221244|\n",
      "|         JFK Airport|   188867|\n",
      "|      Bushwick South|   187929|\n",
      "|       East New York|   186780|\n",
      "|TriBeCa/Civic Center|   164344|\n",
      "|   LaGuardia Airport|   161596|\n",
      "|            Union Sq|   158937|\n",
      "|        West Village|   154698|\n",
      "|             Astoria|   152493|\n",
      "|     Lower East Side|   151020|\n",
      "|        East Chelsea|   147673|\n",
      "|Central Harlem North|   146402|\n",
      "|Williamsburg (Nor...|   143683|\n",
      "|          Park Slope|   143594|\n",
      "|  Stuyvesant Heights|   141427|\n",
      "|        Clinton East|   139611|\n",
      "|West Chelsea/Huds...|   139431|\n",
      "|             Bedford|   138428|\n",
      "|         Murray Hill|   137879|\n",
      "+--------------------+---------+\n",
      "only showing top 20 rows\n",
      "\n"
     ]
    },
    {
     "name": "stderr",
     "output_type": "stream",
     "text": [
      "\r",
      "                                                                                \r"
     ]
    }
   ],
   "source": [
    "df_join.createOrReplaceTempView('trips_data_zone_looup')\n",
    "df_join_result = spark.sql(\"\"\"\n",
    "SELECT \n",
    "   Zone,\n",
    "   count(PULocationID)as nb_pickup\n",
    "FROM\n",
    "    trips_data_zone_looup\n",
    "GROUP BY\n",
    "1\n",
    "ORDER BY nb_pickup desc\n",
    "\"\"\")\n",
    "df_join_result.show()"
   ]
  },
  {
   "cell_type": "code",
   "execution_count": null,
   "id": "a4d874b9",
   "metadata": {},
   "outputs": [],
   "source": []
  },
  {
   "cell_type": "code",
   "execution_count": null,
   "id": "4a5c6a26",
   "metadata": {},
   "outputs": [],
   "source": []
  }
 ],
 "metadata": {
  "kernelspec": {
   "display_name": "Python 3 (ipykernel)",
   "language": "python",
   "name": "python3"
  },
  "language_info": {
   "codemirror_mode": {
    "name": "ipython",
    "version": 3
   },
   "file_extension": ".py",
   "mimetype": "text/x-python",
   "name": "python",
   "nbconvert_exporter": "python",
   "pygments_lexer": "ipython3",
   "version": "3.11.2"
  }
 },
 "nbformat": 4,
 "nbformat_minor": 5
}
